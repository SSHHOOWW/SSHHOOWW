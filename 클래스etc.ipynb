{
 "cells": [
  {
   "attachments": {},
   "cell_type": "markdown",
   "metadata": {},
   "source": [
    "# 클래스\n",
    "반복되는 변수나 메서드(함수)를 미리 정해놓은 틀(설계도)"
   ]
  },
  {
   "cell_type": "code",
   "execution_count": 24,
   "metadata": {},
   "outputs": [
    {
     "name": "stdout",
     "output_type": "stream",
     "text": [
      "3\n",
      "7\n",
      "4\n"
     ]
    }
   ],
   "source": [
    "class Calculator:           # 설계도 / 클래스명은 첫글자 대문자\n",
    "    def __init__(self):\n",
    "        self.result = 0\n",
    "\n",
    "    def add(self, num):\n",
    "        self. result += num\n",
    "        return self.result \n",
    "\n",
    "cal1 = Calculator()         # 건물(인스턴스)\n",
    "cal2 = Calculator()\n",
    "\n",
    "print(cal1.add(3))\n",
    "print(cal1.add(4))\n",
    "print(cal2.add(4))"
   ]
  },
  {
   "cell_type": "code",
   "execution_count": 4,
   "metadata": {},
   "outputs": [
    {
     "name": "stdout",
     "output_type": "stream",
     "text": [
      "<class '__main__.FourCal'>\n",
      "6\n",
      "4\n",
      "2\n"
     ]
    }
   ],
   "source": [
    "class FourCal:\n",
    "    def __init__(self,first,second): \n",
    "        # 생성자(예약어):해당 클래스가 변수에 저장될 때 마다 자동으로 실행되는 문(인스턴스 지정)\n",
    "        self.first = first\n",
    "        self.second = second\n",
    "    def setdata(self, first, second): # self는 클래스가 저장될 변수명\n",
    "        self.first = first\n",
    "        self.second = second\n",
    "    \n",
    "    def add(self):\n",
    "        result = self.first + self.second\n",
    "        return result \n",
    "    \n",
    "    def div(self):\n",
    "        result = self.first / self.second\n",
    "        return result\n",
    "    \n",
    "a = FourCal(4,2)  # 생성자에 할당된 변수를 먼저 저장\n",
    "print(type(a))\n",
    "\n",
    "# a.setdata(2,3)\n",
    "print(a.add())\n",
    "print(a.first) # a의 first 변수\n",
    "print(a.second) # a의 second 변수"
   ]
  },
  {
   "attachments": {},
   "cell_type": "markdown",
   "metadata": {},
   "source": [
    "## 상속\n",
    "기존 클래스의 코드를 활용해 다른 클래스를 만듦"
   ]
  },
  {
   "cell_type": "code",
   "execution_count": 17,
   "metadata": {},
   "outputs": [
    {
     "data": {
      "text/plain": [
       "6"
      ]
     },
     "execution_count": 17,
     "metadata": {},
     "output_type": "execute_result"
    }
   ],
   "source": [
    "class MoreFourCal(FourCal):\n",
    "    pass\n",
    "a = MoreFourCal(4,2)\n",
    "a.add()\n",
    "# 기존 클래스의 기능 사용 가능"
   ]
  },
  {
   "cell_type": "code",
   "execution_count": 20,
   "metadata": {},
   "outputs": [
    {
     "data": {
      "text/plain": [
       "16"
      ]
     },
     "execution_count": 20,
     "metadata": {},
     "output_type": "execute_result"
    }
   ],
   "source": [
    "class MoreFourCal(FourCal):\n",
    "    def pow(self):\n",
    "        result = self.first **self.second\n",
    "        return result\n",
    "a = MoreFourCal(4,2)\n",
    "a.pow()\n",
    "# 매서드 추가"
   ]
  },
  {
   "cell_type": "code",
   "execution_count": 28,
   "metadata": {},
   "outputs": [
    {
     "data": {
      "text/plain": [
       "0"
      ]
     },
     "execution_count": 28,
     "metadata": {},
     "output_type": "execute_result"
    }
   ],
   "source": [
    "class SafeFourCal(FourCal):\n",
    "    def div(self):\n",
    "        if self.second == 0:\n",
    "            return 0\n",
    "        else:\n",
    "            return self.first / self.second\n",
    "a = SafeFourCal(2,0)\n",
    "a.div()\n",
    "\n",
    "# 기존 부모 클래스와 같은 이름의 함수를 다시 정의하면 새로 정의한 대로 간다.\n",
    "# 매서드 오버라이딩"
   ]
  },
  {
   "attachments": {},
   "cell_type": "markdown",
   "metadata": {},
   "source": [
    "## 클래스 변수, 객체 변수"
   ]
  },
  {
   "cell_type": "code",
   "execution_count": 32,
   "metadata": {},
   "outputs": [
    {
     "name": "stdout",
     "output_type": "stream",
     "text": [
      "2\n",
      "2\n",
      "5\n"
     ]
    }
   ],
   "source": [
    "class FourCal:\n",
    "    first = 2\n",
    "    second = 3      # 클래스 변수(모든 클래스에 공통으로 적용)\n",
    "    # def __init__(self,first,second): \n",
    "    #     self.first = first        << 객체변수(객체마다 다르게)\n",
    "    #     self.second = second\n",
    "    def setdata(self, first, second): # self는 클래스가 저장될 변수명\n",
    "        self.first = first\n",
    "        self.second = second\n",
    "    \n",
    "    def add(self):\n",
    "        result = self.first + self.second\n",
    "        return result \n",
    "\n",
    "a=FourCal()\n",
    "b=FourCal()\n",
    "print(a.first)\n",
    "print(b.first)\n",
    "\n",
    "FourCal.first = 5 # 클래스 변수 값 변경\n",
    "c=FourCal()\n",
    "print(c.first)"
   ]
  },
  {
   "attachments": {},
   "cell_type": "markdown",
   "metadata": {},
   "source": [
    "# 모듈\n",
    "미리 만들어놓은 .py파일(함수,변수,클래스)"
   ]
  },
  {
   "cell_type": "code",
   "execution_count": 48,
   "metadata": {},
   "outputs": [
    {
     "name": "stdout",
     "output_type": "stream",
     "text": [
      "7\n"
     ]
    }
   ],
   "source": [
    "'''\n",
    "<mod1.py>\n",
    "def add(a,b):\n",
    "    return a+b\n",
    "\n",
    "if __name__ == \"__main__\": # 실행파일명(name)이 main인가?(불러와서 실행하면 mod1이 실행파일명이고, mod1에서 실행하면 main이 실행파일명)\n",
    "    print(add(1,4))\n",
    "'''\n",
    "\n",
    "\n",
    "import mod1     # mod1 파일을 불러오기(mod1.py 실행하기)\n",
    "print(mod1.add(2,5))\n",
    "from mod1 import add # mod1 파일에서 add함수만 가져온다."
   ]
  },
  {
   "attachments": {},
   "cell_type": "markdown",
   "metadata": {},
   "source": [
    "### 만약에 불러오려는 파일의 경로와 불러들일 파일의 경로가 다르다면\n"
   ]
  },
  {
   "cell_type": "code",
   "execution_count": 3,
   "metadata": {},
   "outputs": [],
   "source": [
    "import sys      # 시스템을 불러오고,\n",
    "sys.path.append(\"C:\\\\Users\\\\Admin\\\\coding\\\\Python practice\\\\sub\") # 시스템이 탐색하는 경로에 해당 경로 추가\n",
    "import mod1"
   ]
  },
  {
   "attachments": {},
   "cell_type": "markdown",
   "metadata": {},
   "source": [
    "# 패키지(=라이브러리,폴더집합)\n",
    "여러 모듈(.py)들을 모아놓은 것"
   ]
  },
  {
   "attachments": {},
   "cell_type": "markdown",
   "metadata": {},
   "source": [
    "### 패키지의 구조\n",
    "game/\n",
    "\n",
    "    __init__.py\n",
    "\n",
    "    sound/\n",
    "\n",
    "        __init__.py\n",
    "\n",
    "        echo.py\n",
    "\n",
    "        wav.py\n",
    "\n",
    "    graphic/\n",
    "\n",
    "        __init__.py\n",
    "\n",
    "        screen.py\n",
    "\n",
    "        render.py\n",
    "\n",
    "    play/\n",
    "\n",
    "        __init__.py\n",
    "\n",
    "        run.py\n",
    "\n",
    "        test.py\n",
    "        "
   ]
  },
  {
   "attachments": {},
   "cell_type": "markdown",
   "metadata": {},
   "source": [
    "### 패키지 불러오기\n",
    "\n",
    "import 패키지                             # 패키지 불러오기\n",
    "\n",
    "import 패키지.폴더1.폴더2. ... .모듈명     # 패키지 안의 모듈 불러오기\n",
    "\n",
    "from 패키지.폴더1.폴더2. ... import 모듈명 # 패키지 안의 모듈 불러오기 (+ 응용해서 함수만 불러올 수도 있다)\n",
    "\n",
    "\n",
    "패키지.폴더1.폴더2. ... .모듈명.함수       # 불러온 패키지의 함수 사용\n",
    "\n",
    "모듈명.함수                               # 부분적으로 불러온 패키지의 모듈 함수 사용\n",
    "\n",
    "from 패키지.폴더1.폴더2. ... .모듈명 import 함수 (as 새로운 이름) # 함수만 불러오기(as:해당 파일내에서 새로운 이름으로 함수 사용가능)\n",
    "\n",
    "from 패키지.폴더1.폴더2. ... .폴더 import * # 해당 폴더의 모듈 모두 불러오기\n",
    "\n",
    "(단, 최하위 폴더의 __init__.py에 있는 변수__all__에 지정된 모듈만 불러옴)\n",
    "\n",
    "\n",
    "<상대 패키지>\n",
    "\n",
    "import 아래에 파일 경로를 표시할 때, ..은 상위폴더로 이동함을 의미함."
   ]
  },
  {
   "attachments": {},
   "cell_type": "markdown",
   "metadata": {},
   "source": [
    "# 예외처리\n",
    "구조\n",
    "\n",
    "try: 오류날 것 같은 구문 \n",
    "\n",
    "except 오류문 as e: 실행문      #오류 발생 시 실행(여러종류 가능)\n",
    "\n",
    "else: 실행문                    #오류 미발생시 실행\n",
    "\n",
    "finally: 실행문                 #오류에 무관하게 마지막에 실행"
   ]
  },
  {
   "cell_type": "code",
   "execution_count": 4,
   "metadata": {},
   "outputs": [
    {
     "ename": "FileNotFoundError",
     "evalue": "[Errno 2] No such file or directory: '없는 파일'",
     "output_type": "error",
     "traceback": [
      "\u001b[1;31m---------------------------------------------------------------------------\u001b[0m",
      "\u001b[1;31mFileNotFoundError\u001b[0m                         Traceback (most recent call last)",
      "Cell \u001b[1;32mIn[4], line 1\u001b[0m\n\u001b[1;32m----> 1\u001b[0m f \u001b[39m=\u001b[39m \u001b[39mopen\u001b[39;49m(\u001b[39m\"\u001b[39;49m\u001b[39m없는 파일\u001b[39;49m\u001b[39m\"\u001b[39;49m,\u001b[39m'\u001b[39;49m\u001b[39mr\u001b[39;49m\u001b[39m'\u001b[39;49m)\n\u001b[0;32m      2\u001b[0m \u001b[39mprint\u001b[39m(a)\n",
      "File \u001b[1;32m~\\AppData\\Roaming\\Python\\Python310\\site-packages\\IPython\\core\\interactiveshell.py:282\u001b[0m, in \u001b[0;36m_modified_open\u001b[1;34m(file, *args, **kwargs)\u001b[0m\n\u001b[0;32m    275\u001b[0m \u001b[39mif\u001b[39;00m file \u001b[39min\u001b[39;00m {\u001b[39m0\u001b[39m, \u001b[39m1\u001b[39m, \u001b[39m2\u001b[39m}:\n\u001b[0;32m    276\u001b[0m     \u001b[39mraise\u001b[39;00m \u001b[39mValueError\u001b[39;00m(\n\u001b[0;32m    277\u001b[0m         \u001b[39mf\u001b[39m\u001b[39m\"\u001b[39m\u001b[39mIPython won\u001b[39m\u001b[39m'\u001b[39m\u001b[39mt let you open fd=\u001b[39m\u001b[39m{\u001b[39;00mfile\u001b[39m}\u001b[39;00m\u001b[39m by default \u001b[39m\u001b[39m\"\u001b[39m\n\u001b[0;32m    278\u001b[0m         \u001b[39m\"\u001b[39m\u001b[39mas it is likely to crash IPython. If you know what you are doing, \u001b[39m\u001b[39m\"\u001b[39m\n\u001b[0;32m    279\u001b[0m         \u001b[39m\"\u001b[39m\u001b[39myou can use builtins\u001b[39m\u001b[39m'\u001b[39m\u001b[39m open.\u001b[39m\u001b[39m\"\u001b[39m\n\u001b[0;32m    280\u001b[0m     )\n\u001b[1;32m--> 282\u001b[0m \u001b[39mreturn\u001b[39;00m io_open(file, \u001b[39m*\u001b[39margs, \u001b[39m*\u001b[39m\u001b[39m*\u001b[39mkwargs)\n",
      "\u001b[1;31mFileNotFoundError\u001b[0m: [Errno 2] No such file or directory: '없는 파일'"
     ]
    }
   ],
   "source": [
    "f = open(\"없는 파일\",'r')\n",
    "print('a')      #앞에서 오류가 발생하면 실행이 안됨"
   ]
  },
  {
   "cell_type": "code",
   "execution_count": 6,
   "metadata": {},
   "outputs": [
    {
     "name": "stdout",
     "output_type": "stream",
     "text": [
      "division by zero\n",
      "a\n"
     ]
    }
   ],
   "source": [
    "try:\n",
    "    4/0\n",
    "except ZeroDivisionError as e:\n",
    "    print(e)\n",
    "\n",
    "print('a')"
   ]
  },
  {
   "cell_type": "code",
   "execution_count": 7,
   "metadata": {},
   "outputs": [
    {
     "name": "stdout",
     "output_type": "stream",
     "text": [
      "[Errno 2] No such file or directory: 'none'\n"
     ]
    }
   ],
   "source": [
    "try:\n",
    "    f= open('none', 'r')\n",
    "except FileNotFoundError as e:      #무슨 오류인지 모르면 exception 으로 오류문을 잡는다.\n",
    "    print(str(e))\n",
    "else:\n",
    "    data = f.read()\n",
    "    print(data)\n",
    "finally:\n",
    "    f.close()"
   ]
  },
  {
   "cell_type": "code",
   "execution_count": 8,
   "metadata": {},
   "outputs": [
    {
     "ename": "Exception",
     "evalue": "",
     "output_type": "error",
     "traceback": [
      "\u001b[1;31m---------------------------------------------------------------------------\u001b[0m",
      "\u001b[1;31mException\u001b[0m                                 Traceback (most recent call last)",
      "Cell \u001b[1;32mIn[8], line 1\u001b[0m\n\u001b[1;32m----> 1\u001b[0m \u001b[39mraise\u001b[39;00m \u001b[39mException\u001b[39;00m\n",
      "\u001b[1;31mException\u001b[0m: "
     ]
    }
   ],
   "source": [
    "raise Exception #일부러 오류 발생   "
   ]
  },
  {
   "attachments": {},
   "cell_type": "markdown",
   "metadata": {},
   "source": [
    "# 내장함수"
   ]
  },
  {
   "cell_type": "code",
   "execution_count": 2,
   "metadata": {},
   "outputs": [
    {
     "name": "stdout",
     "output_type": "stream",
     "text": [
      "3\n",
      "True\n",
      "False\n",
      "True\n",
      "65\n",
      "[1, 4, 7]\n",
      "8\n",
      "5\n",
      "[True, False, True, True, False, False]\n",
      "[0, 1, 2, 3, 4]\n",
      "[5, 6, 7, 8, 9]\n",
      "[5, 7, 9]\n",
      "[1, 2, 3]\n",
      "[1, 2, 3]\n",
      "[1, 2, 3]\n",
      "['1', '2', '3']\n",
      "<class 'zip'>\n",
      "[(1, 4), (2, 5), (3, 6)]\n"
     ]
    }
   ],
   "source": [
    "print(abs(-3))      #절댓값\n",
    "\n",
    "print(all([1,2,3])) #모두 참인가?\n",
    "print(all([1,2,3,0]))\n",
    "\n",
    "print(any([1,0,0])) #하나라도 참인가?\n",
    "\n",
    "chr(100)            #ASCII코드에 대응하는 문자 출력\n",
    "print(ord('A'))\n",
    "\n",
    "dir(1)\n",
    "dir([2,3])          #해당 자료형에 적용할 수 있는 내장함수들 출력\n",
    "\n",
    "divmod(5,3)         #몫과 나머지를 튜플 형태로 출력\n",
    "\n",
    "def positive(x):\n",
    "    return x > 0\n",
    "a=list(filter(positive,[1,-3,4,7,-2,0])) # filter(함수,함수에 들어가는 매개변수들의 리스트) << 함수의 리턴값이 Ture인 성분만 리스트에 잔류시켜 반환\n",
    "print(a)\n",
    "\n",
    "print(len('연세튼튼정형외과')) #대상의 길이(크기)를 출력\n",
    "print(len([1,2,3,4,5]))\n",
    "\n",
    "a=list(map(positive,[1,-3,4,7,-2,0])) # map(함수,함수에 들어가는 매개변수들의 리스트) << 리스트의 각 성분에 대응하는 함숫값들을 리스트로 반환\n",
    "print(a)\n",
    "\n",
    "print(list(range(5)))\n",
    "print(list(range(5,10)))\n",
    "print(list(range(5,10,2)))\n",
    "\n",
    "\n",
    "\n",
    "\n",
    "\n",
    "print(sorted((3,2,1)))\n",
    "print(sorted([3,2,1]))\n",
    "print(sorted({3,2,1}))\n",
    "print(sorted('321'))            # 다중변수구조를 정렬해서 '리스트'로 리턴(문자열 가능)\n",
    "\n",
    "a=zip([1,2,3],[4,5,6])          # 다중변수구조를 순서대로 묶어줌(문자열 가능)\n",
    "print(type(a))\n",
    "print(list(a))"
   ]
  },
  {
   "attachments": {},
   "cell_type": "markdown",
   "metadata": {},
   "source": [
    "# 외장함수\n",
    "라이브러리 함수, import해서 쓰는 함수"
   ]
  },
  {
   "cell_type": "code",
   "execution_count": 44,
   "metadata": {},
   "outputs": [
    {
     "name": "stdout",
     "output_type": "stream",
     "text": [
      "['C:\\\\Users\\\\Admin\\\\AppData\\\\Roaming\\\\Python\\\\Python310\\\\site-packages\\\\ipykernel_launcher.py', '--ip=127.0.0.1', '--stdin=9038', '--control=9036', '--hb=9035', '--Session.signature_scheme=\"hmac-sha256\"', '--Session.key=b\"652e8a08-cd52-4564-8fcf-8af974429274\"', '--shell=9037', '--transport=\"tcp\"', '--iopub=9039', '--f=c:\\\\Users\\\\Admin\\\\AppData\\\\Roaming\\\\jupyter\\\\runtime\\\\kernel-v2-25544WXSaI08jBxnH.json']\n",
      "1688681667.8491364\n",
      "0\n",
      "1\n",
      "2\n",
      "3\n",
      "4\n",
      "[3, 12, 16, 20, 37, 40]\n"
     ]
    },
    {
     "data": {
      "text/plain": [
       "True"
      ]
     },
     "execution_count": 44,
     "metadata": {},
     "output_type": "execute_result"
    }
   ],
   "source": [
    "import sys      #라이브러리 불러오기\n",
    "print(sys.argv)\n",
    "\n",
    "import time\n",
    "print(time.time()) # 1970년 1월 1일 0시 0분 0초를 기준으로 지난 초\n",
    "\n",
    "for i in range(5):\n",
    "    print(i)\n",
    "    time.sleep(0.1)   # 코드 실행을 0.1초 쉬어라\n",
    "\n",
    "import random\n",
    "lotto = sorted(random.sample(range(1,46), 6))\n",
    "print(lotto)\n",
    "\n",
    "import webbrowser\n",
    "webbrowser.open(\"www.naver.com\")"
   ]
  },
  {
   "cell_type": "code",
   "execution_count": null,
   "metadata": {},
   "outputs": [],
   "source": []
  }
 ],
 "metadata": {
  "kernelspec": {
   "display_name": "Python 3",
   "language": "python",
   "name": "python3"
  },
  "language_info": {
   "codemirror_mode": {
    "name": "ipython",
    "version": 3
   },
   "file_extension": ".py",
   "mimetype": "text/x-python",
   "name": "python",
   "nbconvert_exporter": "python",
   "pygments_lexer": "ipython3",
   "version": "3.10.11"
  },
  "orig_nbformat": 4
 },
 "nbformat": 4,
 "nbformat_minor": 2
}
