{
 "cells": [
  {
   "attachments": {},
   "cell_type": "markdown",
   "metadata": {},
   "source": [
    "# 함수의 구조\n",
    "def 함수명(매개변수): #매개변수 = input\n",
    "\n",
    "    <수행 문장1>\n",
    "\n",
    "    <수행 문장2>\n",
    "\n",
    "    ...\n",
    "    \n",
    "    return 리턴값 #리턴 = output"
   ]
  },
  {
   "cell_type": "code",
   "execution_count": 1,
   "metadata": {},
   "outputs": [
    {
     "data": {
      "text/plain": [
       "6"
      ]
     },
     "execution_count": 1,
     "metadata": {},
     "output_type": "execute_result"
    }
   ],
   "source": [
    "def sum(a, b):\n",
    "    result = a+b\n",
    "    return result\n",
    "\n",
    "sum(1,5)"
   ]
  },
  {
   "cell_type": "code",
   "execution_count": 2,
   "metadata": {},
   "outputs": [
    {
     "name": "stdout",
     "output_type": "stream",
     "text": [
      "Hi\n",
      "1, 2의 합은 3입니다.\n",
      "1, 2의 합은 3입니다.\n",
      "None\n",
      "hi\n",
      "None\n"
     ]
    }
   ],
   "source": [
    "# 입력값이 없는 함수\n",
    "def say():\n",
    "    return 'Hi'\n",
    "say()\n",
    "print(say())\n",
    "\n",
    "# 출력값이 없는 함수\n",
    "def sum(a,b):\n",
    "    print(\"%d, %d의 합은 %d입니다.\" % (a,b, a+b))\n",
    "sum(1,2)\n",
    "\n",
    "print(sum(1,2)) # 함수 리턴값이 없으므로 none\n",
    "\n",
    "# 입력과 출력이 없는 함수\n",
    "def saying():\n",
    "    print('hi')\n",
    "print(saying())"
   ]
  },
  {
   "cell_type": "code",
   "execution_count": 13,
   "metadata": {},
   "outputs": [
    {
     "name": "stdout",
     "output_type": "stream",
     "text": [
      "None\n",
      "4\n"
     ]
    }
   ],
   "source": [
    "mylist = [1,2,3]\n",
    "print(mylist.append(4)) # 함수 자체의 리턴값은 없음 값을 변경하는 행위만 존재\n",
    "print(mylist.pop()) # 함수의 리턴값이 팝되는 원소임"
   ]
  },
  {
   "cell_type": "code",
   "execution_count": 17,
   "metadata": {},
   "outputs": [
    {
     "name": "stdout",
     "output_type": "stream",
     "text": [
      "6\n"
     ]
    }
   ],
   "source": [
    "#입력값이 여러개인 함수\n",
    "def sum_many(*args): # *: 여러개의 인자를 받음\n",
    "    sum = 0\n",
    "    for i in args:\n",
    "        sum = sum + i\n",
    "    return sum\n",
    "print(sum_many(1,2,3)) "
   ]
  },
  {
   "cell_type": "code",
   "execution_count": 25,
   "metadata": {},
   "outputs": [
    {
     "name": "stdout",
     "output_type": "stream",
     "text": [
      "당신의 이름은 :조수\n",
      "None\n"
     ]
    }
   ],
   "source": [
    "# 키워드 파라미터\n",
    "def print_kwargs(**kwargs): # **: 딕셔너리 변수(이름이 지정되는 변수)를 처리할 수 있는 매개변수\n",
    "    for k in kwargs.keys():\n",
    "        if(k=='name'):\n",
    "            print('당신의 이름은 :'+ kwargs[k])\n",
    "\n",
    "print(print_kwargs(name=\"조수\", b='2')) # 함수가 수행되어 문장이 프린트 되고, 함수 자체의 리턴값은 없으므로 None"
   ]
  },
  {
   "cell_type": "code",
   "execution_count": 29,
   "metadata": {},
   "outputs": [
    {
     "name": "stdout",
     "output_type": "stream",
     "text": [
      "(9, 20)\n",
      "20\n"
     ]
    }
   ],
   "source": [
    "#함수의 결과값은 하나이다.\n",
    "def sum_and_mul(a,b):\n",
    "    sum = a+b\n",
    "    mul = a*b\n",
    "    return sum, mul\n",
    "\n",
    "print(sum_and_mul(5,4)) # 튜플 형태(하나의 변수)로 리턴\n",
    "print(sum_and_mul(5,4)[1]) # 튜플 형태(하나의 변수)로 리턴"
   ]
  },
  {
   "cell_type": "code",
   "execution_count": 3,
   "metadata": {},
   "outputs": [
    {
     "name": "stdout",
     "output_type": "stream",
     "text": [
      "나의 이름은 윤시호 입니다.\n",
      "나이 24살입니다.\n",
      "여자입니다.\n",
      "나의 이름은 윤시호 입니다.\n",
      "나이 24살입니다.\n",
      "남자입니다.\n"
     ]
    }
   ],
   "source": [
    "def say_myself(name, old, man=True): # 값이 없을 때 디폴트 값 지정\n",
    "    print(\"나의 이름은 %s 입니다.\"% name)\n",
    "    print(\"나이 %d살입니다.\"% old)\n",
    "    if man:\n",
    "        print(\"남자입니다.\")\n",
    "    else:\n",
    "        print(\"여자입니다.\")\n",
    "say_myself('윤시호',24, False)\n",
    "say_myself(old =24, name='윤시호', man=True) # 순서와 무관한 연결형"
   ]
  },
  {
   "cell_type": "code",
   "execution_count": 43,
   "metadata": {},
   "outputs": [
    {
     "name": "stdout",
     "output_type": "stream",
     "text": [
      "1\n",
      "2\n",
      "3\n"
     ]
    }
   ],
   "source": [
    "a=1\n",
    "def vartest(a):\n",
    "    a = a+1\n",
    "    return a\n",
    "vartest(a)\n",
    "print(a) #함수에서 선언된 변수는 지역변수(임시변수), 전역(글로벌 프레임)변수에 영향 x\n",
    "a = vartest(a) # 함수의 리턴값을 a에 다시 할당\n",
    "print(a)\n",
    "\n",
    "def varitest():\n",
    "    global a #전역 변수 a를 가져옴\n",
    "    a = a+1\n",
    "varitest()\n",
    "print(a)"
   ]
  },
  {
   "cell_type": "code",
   "execution_count": 50,
   "metadata": {},
   "outputs": [
    {
     "name": "stdout",
     "output_type": "stream",
     "text": [
      "5\n",
      "2 3\n"
     ]
    }
   ],
   "source": [
    "def add(a,b):\n",
    "    return a+b\n",
    "add1 = lambda a, b:a+b #lamba 함수를 통한 간단한 함수 지정\n",
    "# lambda 매개변수1, 매개변수2, 매개변수3, ... : 리턴 값\n",
    "print(add1(2,3))\n",
    "\n",
    "myList = [lambda a, b: a+b, lambda a, b: a*b] # 함수들의 리스트가 됨\n",
    "print(myList[1](1,2), myList[0](1,2))"
   ]
  },
  {
   "attachments": {},
   "cell_type": "markdown",
   "metadata": {},
   "source": [
    "# 사용자 입력과 출력"
   ]
  },
  {
   "cell_type": "code",
   "execution_count": 4,
   "metadata": {},
   "outputs": [
    {
     "name": "stdout",
     "output_type": "stream",
     "text": [
      "'하읭'\n"
     ]
    }
   ],
   "source": [
    "a = input(\"입력하시오\") #실시간 입력을 받는 함수(해당 문자열을 터미널에 출력한 후 사용자가 직접 터미널에 입력)\n",
    "print(a)"
   ]
  },
  {
   "cell_type": "code",
   "execution_count": 59,
   "metadata": {},
   "outputs": [
    {
     "name": "stdout",
     "output_type": "stream",
     "text": [
      "lifeistooshort\n",
      "life is too short\n",
      "0hi1hi2hi3hi4hi5hi6hi7hi8hi9hi"
     ]
    }
   ],
   "source": [
    "print(\"life\"\"is\"\"too\"\"short\") # 콤마없이도 인식 및 출력 가능\n",
    "print(\"life\",\"is\",\"too\",\"short\") # 콤마가 있으면 스트링간 공백'\n",
    "for i in range(10):\n",
    "    print(i, end=\"hi\") # 여러번 출력 시 줄바꿈 없이 지정 인자를 사이로 한줄에 출력"
   ]
  },
  {
   "attachments": {},
   "cell_type": "markdown",
   "metadata": {},
   "source": [
    "# 파일 읽고 쓰기"
   ]
  },
  {
   "cell_type": "code",
   "execution_count": 6,
   "metadata": {},
   "outputs": [],
   "source": [
    "#파일 생성하기\n",
    "f = open(\"새파일.txt\",'w') # 현재 폴더에서 생성 혹은 열기\n",
    "# r: 읽기모드, w: 쓰기모드, a: 추가모드(파일의 마지막에 새로운 내용 추가)\n",
    "f.close()"
   ]
  },
  {
   "cell_type": "code",
   "execution_count": 2,
   "metadata": {},
   "outputs": [],
   "source": [
    "f = open(\"C:/Users/Admin/coding/Python practice/sub/새파1일.txt\", 'w', encoding=\"UTF-8\") # 절대경로\n",
    "# 인코딩: 사용자가 입력하는 문자의 자료형 지정\n",
    "for i in range(1,11):\n",
    "    data = \"%d번째 줄입니다.\\n\" % i\n",
    "    f.write(data)\n",
    "f.close()"
   ]
  },
  {
   "cell_type": "code",
   "execution_count": 19,
   "metadata": {},
   "outputs": [
    {
     "name": "stdout",
     "output_type": "stream",
     "text": [
      "1번째 줄입니다.\n",
      "\n",
      "2번째 줄입니다.\n",
      "\n",
      "3번째 줄입니다.\n",
      "\n",
      "4번째 줄입니다.\n",
      "\n",
      "5번째 줄입니다.\n",
      "\n",
      "6번째 줄입니다.\n",
      "\n",
      "7번째 줄입니다.\n",
      "\n",
      "8번째 줄입니다.\n",
      "\n",
      "9번째 줄입니다.\n",
      "\n",
      "10번째 줄입니다.\n",
      "\n"
     ]
    }
   ],
   "source": [
    "f= open(\"새파1일.txt\",'r', encoding='UTF-8')\n",
    "while True:\n",
    "    line = f.readline() #해당 파일의 한 줄씩 읽음. 한번 실행하면 커서가 읽은 줄의 다음 줄에 위치함.(반복실행 시 한줄씩 내려가서 다시 읽음)\n",
    "    if not line: break\n",
    "    print(line)\n",
    "f.close()"
   ]
  },
  {
   "cell_type": "code",
   "execution_count": 3,
   "metadata": {},
   "outputs": [
    {
     "name": "stdout",
     "output_type": "stream",
     "text": [
      "1번째 줄입니다.\n",
      "2번째 줄입니다.\n",
      "3번째 줄입니다.\n",
      "4번째 줄입니다.\n",
      "5번째 줄입니다.\n",
      "6번째 줄입니다.\n",
      "7번째 줄입니다.\n",
      "8번째 줄입니다.\n",
      "9번째 줄입니다.\n",
      "10번째 줄입니다.\n",
      "1번째 줄입니다.\n",
      "2번째 줄입니다.\n",
      "3번째 줄입니다.\n",
      "4번째 줄입니다.\n",
      "5번째 줄입니다.\n",
      "6번째 줄입니다.\n",
      "7번째 줄입니다.\n",
      "8번째 줄입니다.\n",
      "9번째 줄입니다.\n",
      "10번째 줄입니다.\n",
      "1번째 줄입니다.2번째 줄입니다.3번째 줄입니다.4번째 줄입니다.5번째 줄입니다.6번째 줄입니다.7번째 줄입니다.8번째 줄입니다.9번째 줄입니다.10번째 줄입니다."
     ]
    }
   ],
   "source": [
    "f= open(\"C:/Users/Admin/coding/Python practice/sub/새파1일.txt\",'r', encoding='UTF-8')\n",
    "lines = f.readlines() # 해당 파일의 모든 줄 읽기. 리스트형 자료형\n",
    "for line in lines:\n",
    "    print(line, end=\"\") # end 옵션을 붙이면 반복 출력시 자동 줄바꿈 없이 출력\n",
    "f.close()\n",
    "\n",
    "f= open(\"C:/Users/Admin/coding/Python practice/sub/새파1일.txt\",'r', encoding='UTF-8')\n",
    "lines = f.readlines() # 해당 파일의 모든 줄 읽기. 리스트형 자료형\n",
    "for line in lines:\n",
    "    print(line.strip(\"\\n\")) # 양쪽 끝에서 특정 문자를 제거해주는 함수(디폴트는 공백)\n",
    "f.close()\n",
    "\n",
    "f= open(\"C:/Users/Admin/coding/Python practice/sub/새파1일.txt\",'r', encoding='UTF-8')\n",
    "lines = f.readlines() # 해당 파일의 모든 줄 읽기. 리스트형 자료형\n",
    "for line in lines:\n",
    "    print(line.strip(\"\\n\"), end=\"\") # 양쪽 끝에서 특정 문자를 제거해주는 함수\n",
    "f.close()"
   ]
  },
  {
   "cell_type": "code",
   "execution_count": 86,
   "metadata": {},
   "outputs": [
    {
     "name": "stdout",
     "output_type": "stream",
     "text": [
      "1번째 줄입니다.\n",
      "2번째 줄입니다.\n",
      "3번째 줄입니다.\n",
      "4번째 줄입니다.\n",
      "5번째 줄입니다.\n",
      "6번째 줄입니다.\n",
      "7번째 줄입니다.\n",
      "8번째 줄입니다.\n",
      "9번째 줄입니다.\n",
      "10번째 줄입니다.\n",
      "\n",
      "<class 'str'>\n"
     ]
    }
   ],
   "source": [
    "f= open(\"새파1일.txt\",'r', encoding='UTF-8')\n",
    "data = f.read() # 파일 전체를 한번에 읽음. 문자열 자료\n",
    "print(data)\n",
    "print(type(data))\n",
    "f.close()"
   ]
  },
  {
   "cell_type": "code",
   "execution_count": 26,
   "metadata": {},
   "outputs": [
    {
     "name": "stdout",
     "output_type": "stream",
     "text": [
      "1번째 줄입니다.\n",
      "2번째 줄입니다.\n",
      "3번째 줄입니다.\n",
      "4번째 줄입니다.\n",
      "5번째 줄입니다.\n",
      "6번째 줄입니다.\n",
      "7번째 줄입니다.\n",
      "8번째 줄입니다.\n",
      "9번째 줄입니다.\n",
      "10번째 줄입니다.\n",
      "11번째 줄입니다.\n",
      "12번째 줄입니다.\n",
      "13번째 줄입니다.\n",
      "14번째 줄입니다.\n",
      "15번째 줄입니다.\n",
      "16번째 줄입니다.\n",
      "17번째 줄입니다.\n",
      "18번째 줄입니다.\n",
      "19번째 줄입니다.\n",
      "20번째 줄입니다.\n",
      "\n",
      "<class 'str'>\n"
     ]
    }
   ],
   "source": [
    "f = open(\"새파1일.txt\", 'a', encoding=\"UTF-8\") # 추가모드: 기존 자료를 보존한 채, 뒤에 자료 추가(쓰기 모드는 기존 것 초기화)\n",
    "# 인코딩: 사용자가 입력하는 문자의 자료형 지정\n",
    "for i in range(11,21):\n",
    "    data = \"%d번째 줄입니다.\\n\" % i\n",
    "    f.write(data)\n",
    "f.close()\n",
    "\n",
    "f= open(\"새파1일.txt\",'r', encoding='UTF-8')\n",
    "data = f.read() # 파일 전체를 한번에 읽음. 문자열 자료\n",
    "print(data) # 양쪽 끝에서 특정 문자를 제거해주는 함수\n",
    "print(type(data))\n",
    "f.close()"
   ]
  },
  {
   "cell_type": "code",
   "execution_count": 89,
   "metadata": {},
   "outputs": [],
   "source": [
    "with open(\"새파2일.txt\",'w') as f: # with open(파일) as 변수(파일의 변수명)\n",
    "    f.write(\"Life is too short, you need python\")\n",
    "# close가 불필요"
   ]
  },
  {
   "attachments": {},
   "cell_type": "markdown",
   "metadata": {},
   "source": [
    "# Immutable vs mutable \n"
   ]
  },
  {
   "attachments": {},
   "cell_type": "markdown",
   "metadata": {},
   "source": [
    "### immutable(정수 실수 문자열 튜플)"
   ]
  },
  {
   "cell_type": "code",
   "execution_count": 27,
   "metadata": {},
   "outputs": [
    {
     "name": "stdout",
     "output_type": "stream",
     "text": [
      "1\n"
     ]
    }
   ],
   "source": [
    "\n",
    "a=1             # 전역\n",
    "def vartest(a): # 1이라는 값을 가리키는 것은 같으나 지역변수로 작용\n",
    "    a = a+1     # 함수 내 a의 변화(사실상 가리키는 값이 2로 옮겨감)가 전역변수의 값의 변화는 영향을 못줌\n",
    "vartest(a)      \n",
    "print(a)\n",
    "\n",
    "# 한 주소에 어떤 객체의 값이 할당되면, 그 주소의 값은 변화하지 않는다."
   ]
  },
  {
   "attachments": {},
   "cell_type": "markdown",
   "metadata": {},
   "source": [
    "### mutable(리스트 딕셔너리 집합)"
   ]
  },
  {
   "cell_type": "code",
   "execution_count": 34,
   "metadata": {},
   "outputs": [
    {
     "name": "stdout",
     "output_type": "stream",
     "text": [
      "[1, 2, 3, 4]\n",
      "[1, 2, 3, 4]\n"
     ]
    }
   ],
   "source": [
    "\n",
    "b = [1,2,3]         # 전역\n",
    "def vartest2(b):    # 리스트를 가리키는 것은 같으나 지역변수로 작용\n",
    "    b.append(4)     # 가리키는 값을 변화시킴(참고: append는 리턴이 없는 함수)\n",
    "    print(b)\n",
    "vartest2(b)         # 변화시킨 값을 계속 가리키고 있음\n",
    "print(b)\n",
    "\n",
    "# 하나의 주소에 어떤 객체의 값이 할당되면, 객체의 값이 변화할 때\n",
    "# 그 주소에도 변화한 값이 저장된다. "
   ]
  }
 ],
 "metadata": {
  "kernelspec": {
   "display_name": "Python 3",
   "language": "python",
   "name": "python3"
  },
  "language_info": {
   "codemirror_mode": {
    "name": "ipython",
    "version": 3
   },
   "file_extension": ".py",
   "mimetype": "text/x-python",
   "name": "python",
   "nbconvert_exporter": "python",
   "pygments_lexer": "ipython3",
   "version": "3.10.10"
  },
  "orig_nbformat": 4
 },
 "nbformat": 4,
 "nbformat_minor": 2
}
