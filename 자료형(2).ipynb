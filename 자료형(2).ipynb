{
 "cells": [
  {
   "attachments": {},
   "cell_type": "markdown",
   "metadata": {},
   "source": [
    "# 튜플(vs리스트: 변경불가, 고정값)"
   ]
  },
  {
   "cell_type": "code",
   "execution_count": 1,
   "metadata": {},
   "outputs": [
    {
     "ename": "TypeError",
     "evalue": "'tuple' object doesn't support item deletion",
     "output_type": "error",
     "traceback": [
      "\u001b[1;31m---------------------------------------------------------------------------\u001b[0m",
      "\u001b[1;31mTypeError\u001b[0m                                 Traceback (most recent call last)",
      "Cell \u001b[1;32mIn[1], line 2\u001b[0m\n\u001b[0;32m      1\u001b[0m t1 \u001b[39m=\u001b[39m (\u001b[39m1\u001b[39m,\u001b[39m2\u001b[39m,\u001b[39m'\u001b[39m\u001b[39ma\u001b[39m\u001b[39m'\u001b[39m,\u001b[39m'\u001b[39m\u001b[39mb\u001b[39m\u001b[39m'\u001b[39m)\n\u001b[1;32m----> 2\u001b[0m \u001b[39mdel\u001b[39;00m t1[\u001b[39m0\u001b[39m] \u001b[39m# 불가\u001b[39;00m\n\u001b[0;32m      3\u001b[0m t1[\u001b[39m0\u001b[39m] \u001b[39m=\u001b[39m \u001b[39m3\u001b[39m \u001b[39m# 불가\u001b[39;00m\n\u001b[0;32m      4\u001b[0m \u001b[39m# 변경이 불가능하다.\u001b[39;00m\n",
      "\u001b[1;31mTypeError\u001b[0m: 'tuple' object doesn't support item deletion"
     ]
    },
    {
     "ename": "",
     "evalue": "",
     "output_type": "error",
     "traceback": [
      "\u001b[1;31m현재 셀 또는 이전 셀에서 코드를 실행하는 동안 Kernel이 충돌했습니다. 셀의 코드를 검토하여 오류의 가능한 원인을 식별하세요. 자세한 내용을 보려면 <a href='https://aka.ms/vscodeJupyterKernelCrash'> 여기 </a> 를 클릭하세요. 자세한 내용은 Jupyter <a href='command:jupyter.viewOutput'>로그</a>를 참조하세요."
     ]
    }
   ],
   "source": [
    "t1 = (1,2,'a','b')\n",
    "del t1[0] # 불가\n",
    "t1[0] = 3 # 불가\n",
    "# 변경이 불가능하다."
   ]
  },
  {
   "cell_type": "code",
   "execution_count": null,
   "metadata": {},
   "outputs": [
    {
     "name": "stdout",
     "output_type": "stream",
     "text": [
      "(1, 2)\n",
      "2\n"
     ]
    }
   ],
   "source": [
    "print(t1[0:2])\n",
    "print(t1[1]) \n",
    "# 인덱싱, 슬라이싱 등 열람은 가능하다"
   ]
  },
  {
   "cell_type": "code",
   "execution_count": null,
   "metadata": {},
   "outputs": [
    {
     "name": "stdout",
     "output_type": "stream",
     "text": [
      "(1, 2, 'a', 'b', 1, 2)\n",
      "(1, 2, 'a', 'b', 1, 2, 'a', 'b', 1, 2, 'a', 'b')\n",
      "(1, 2, 'a', 'b', 1)\n"
     ]
    }
   ],
   "source": [
    "t2 = (1,2)\n",
    "print(t1 + t2)\n",
    "print(t1*3)\n",
    "# 연산 가능\n",
    "t1 = t1 + (1,)\n",
    "print(t1)\n",
    "# 업데이트(변경x) 가능"
   ]
  },
  {
   "attachments": {},
   "cell_type": "markdown",
   "metadata": {},
   "source": [
    "# 딕셔너리(중요) (연관배열 혹은 해시라고 부름)\n",
    "### key 와 value 조합 (관계형데이터베이스에서 자주 쓰임)"
   ]
  },
  {
   "cell_type": "code",
   "execution_count": null,
   "metadata": {},
   "outputs": [
    {
     "name": "stdout",
     "output_type": "stream",
     "text": [
      "Eric\n"
     ]
    }
   ],
   "source": [
    "dic = {'name': 'Eric', 'age': 15}\n",
    "print(dic['name']) # key 를 통해 value 얻기"
   ]
  },
  {
   "cell_type": "code",
   "execution_count": null,
   "metadata": {},
   "outputs": [
    {
     "name": "stdout",
     "output_type": "stream",
     "text": [
      "{1: 'a', 'name': '익명'}\n",
      "{1: 'a'}\n",
      "False\n",
      "없음\n"
     ]
    },
    {
     "ename": "KeyError",
     "evalue": "'name'",
     "output_type": "error",
     "traceback": [
      "\u001b[1;31m---------------------------------------------------------------------------\u001b[0m",
      "\u001b[1;31mKeyError\u001b[0m                                  Traceback (most recent call last)",
      "Cell \u001b[1;32mIn[32], line 12\u001b[0m\n\u001b[0;32m     10\u001b[0m \u001b[39mprint\u001b[39m(a\u001b[39m.\u001b[39mget(\u001b[39m'\u001b[39m\u001b[39mname\u001b[39m\u001b[39m'\u001b[39m,\u001b[39m'\u001b[39m\u001b[39m없음\u001b[39m\u001b[39m'\u001b[39m)) \n\u001b[0;32m     11\u001b[0m \u001b[39m# 키로 값을 얻기. 없는 키에 대해서는 '없음'출력. None이 디폴트\u001b[39;00m\n\u001b[1;32m---> 12\u001b[0m \u001b[39mprint\u001b[39m(a[\u001b[39m'\u001b[39;49m\u001b[39mname\u001b[39;49m\u001b[39m'\u001b[39;49m]) \u001b[39m# 안됨\u001b[39;00m\n",
      "\u001b[1;31mKeyError\u001b[0m: 'name'"
     ]
    }
   ],
   "source": [
    "a={1:'a'}\n",
    "a['name'] = \"익명\" # 새로운 키 값 쌍 생성\n",
    "print(a)\n",
    "\n",
    "del a['name'] # 키 제거\n",
    "print(a)\n",
    "\n",
    "print('name' in a) # 딕셔너리에 해당 키가 있는 지에 대한 논리문\n",
    "\n",
    "print(a.get('name','없음')) \n",
    "# 키로 값을 얻기. 없는 키에 대해서는 '없음'출력. None이 디폴트\n",
    "print(a['name']) # 안됨\n"
   ]
  },
  {
   "cell_type": "code",
   "execution_count": 1,
   "metadata": {},
   "outputs": [
    {
     "name": "stdout",
     "output_type": "stream",
     "text": [
      "{1: 'b'}\n"
     ]
    }
   ],
   "source": [
    "k = {1: 'a', 1: 'b'} # key의 유일성 보장해줘야 함\n",
    "print(k)"
   ]
  },
  {
   "cell_type": "code",
   "execution_count": 2,
   "metadata": {},
   "outputs": [
    {
     "name": "stdout",
     "output_type": "stream",
     "text": [
      "dict_keys([1, 2, 3])\n",
      "dict_values(['파랑구름', '노랑구름', '검정구름'])\n",
      "dict_items([(1, '파랑구름'), (2, '노랑구름'), (3, '검정구름')])\n",
      "카는:1\n",
      "값은:파랑구름\n",
      "카는:2\n",
      "값은:노랑구름\n",
      "카는:3\n",
      "값은:검정구름\n",
      "{}\n"
     ]
    }
   ],
   "source": [
    "a= {1:'파랑구름', 2: '노랑구름', 3:'검정구름'}\n",
    "print(a.keys()) # 키 리스트 출력\n",
    "print(a.values()) # 값 리스트 출력\n",
    "print(a.items()) # 키-값 쌍 리스트 출력\n",
    "\n",
    "for (k, v) in a.items():\n",
    "    print(\"카는:\" + str(k))\n",
    "    print(\"값은:\" + v) # for문 활용\n",
    "\n",
    "a.clear() # 딕셔너리 비우기\n",
    "print(a)"
   ]
  },
  {
   "attachments": {},
   "cell_type": "markdown",
   "metadata": {},
   "source": [
    "# 집합(vs 리스트: 중복과 순서가 없다.)"
   ]
  },
  {
   "cell_type": "code",
   "execution_count": null,
   "metadata": {},
   "outputs": [
    {
     "name": "stdout",
     "output_type": "stream",
     "text": [
      "{1, 2, 3}\n",
      "{1, 2, 3}\n",
      "[1, 2, 3, 4]\n"
     ]
    }
   ],
   "source": [
    "s1 = set([1,2,3]) # 리스트를 집합으로 정의\n",
    "s2= {1,2,3} # 직접 집합을 정의\n",
    "print(s1)\n",
    "print(s2)\n",
    "\n",
    "ㅣ = [1,2,3,2,2,1,4,3] # 중복된 값이 많은 리스트\n",
    "newlist = list(set(ㅣ)) # 집합으로 중복 제거\n",
    "print(newlist)\n",
    "\n"
   ]
  },
  {
   "cell_type": "code",
   "execution_count": 6,
   "metadata": {},
   "outputs": [
    {
     "name": "stdout",
     "output_type": "stream",
     "text": [
      "{'h', 'l', 'e', 'o'}\n",
      "['h', 'l', 'e', 'o']\n",
      "['e', 'h', 'l', 'o']\n"
     ]
    }
   ],
   "source": [
    "s1 = set(\"hello\") # 문자열의 집합화\n",
    "print(s1) # 문자열은 단위 문자의 집합으로 표현\n",
    "s1_list = list(s1)\n",
    "print(s1_list)\n",
    "s1_list.sort()\n",
    "print(s1_list)"
   ]
  },
  {
   "attachments": {},
   "cell_type": "markdown",
   "metadata": {},
   "source": [
    "### 집합의 연산"
   ]
  },
  {
   "cell_type": "code",
   "execution_count": null,
   "metadata": {},
   "outputs": [
    {
     "name": "stdout",
     "output_type": "stream",
     "text": [
      "{4, 5, 6}\n",
      "{4, 5, 6}\n",
      "{1, 2, 3, 4, 5, 6, 7, 8, 9}\n",
      "{1, 2, 3, 4, 5, 6, 7, 8, 9}\n",
      "{1, 2, 3}\n",
      "{1, 2, 3}\n"
     ]
    }
   ],
   "source": [
    "s1 = set([1,2,3,4,5,6])\n",
    "s2 = set([4,5,6,7,8,9])\n",
    "print (s1.intersection(s2)) # 교집합 함수\n",
    "print(s1&s2) # &: 교집합 기호\n",
    "\n",
    "print(s1.union(s2)) # 합집합 함수\n",
    "print(s1|s2) # | : 합집합 기호\n",
    "\n",
    "print(s1.difference(s2)) # 차집합 함수\n",
    "print(s1-s2) # 차집합 기호\n",
    "# 교환은 성립 x"
   ]
  },
  {
   "cell_type": "code",
   "execution_count": null,
   "metadata": {},
   "outputs": [],
   "source": [
    "## 기타 함수"
   ]
  },
  {
   "cell_type": "code",
   "execution_count": null,
   "metadata": {},
   "outputs": [
    {
     "name": "stdout",
     "output_type": "stream",
     "text": [
      "{1, 2, 3, 4, 5, 6, 7}\n",
      "{1, 2, 3, 4, 5, 6, 7, 8, 9}\n",
      "{2, 3, 4, 5, 6, 7, 8, 9}\n"
     ]
    }
   ],
   "source": [
    "s1.add(7) # 하나의 원소 추가\n",
    "print(s1)\n",
    "s1.update([7,8,9,1]) # 여러 원소(리스트형태) 추가\n",
    "print(s1)\n",
    "s1.remove(1)\n",
    "print(s1)"
   ]
  },
  {
   "attachments": {},
   "cell_type": "markdown",
   "metadata": {},
   "source": [
    "# 불(참, 거짓)"
   ]
  },
  {
   "cell_type": "code",
   "execution_count": null,
   "metadata": {},
   "outputs": [
    {
     "name": "stdout",
     "output_type": "stream",
     "text": [
      "True\n",
      "<class 'bool'>\n"
     ]
    }
   ],
   "source": [
    "a= True\n",
    "print(a)\n",
    "print(type(a))"
   ]
  },
  {
   "attachments": {},
   "cell_type": "markdown",
   "metadata": {},
   "source": [
    "### 자료형의 참과 거짓\n",
    "값이 있는 문자열, 리스트, 튜플, 집합 자료형 : 참\n",
    "값이 없는 문자열, 리스트, 튜플, 집합 자료형 : 거짓\n",
    "1 : 참\n",
    "0 : 거짓\n",
    "None(Null) : 거짓"
   ]
  },
  {
   "cell_type": "code",
   "execution_count": 7,
   "metadata": {},
   "outputs": [
    {
     "name": "stdout",
     "output_type": "stream",
     "text": [
      "false\n",
      "[1, 2, 3]\n",
      "[1, 2]\n",
      "[1]\n",
      "[]\n"
     ]
    }
   ],
   "source": [
    "a= \"\"\n",
    "if a:\n",
    "    print(\"true\")\n",
    "else : print(\"false\")\n",
    "\n",
    "b= [1,2,3,4]\n",
    "while b:    #조건문이 False이면 반복 중단\n",
    "    b.pop()\n",
    "    print(b)"
   ]
  },
  {
   "attachments": {},
   "cell_type": "markdown",
   "metadata": {},
   "source": [
    "# 변수"
   ]
  },
  {
   "cell_type": "code",
   "execution_count": null,
   "metadata": {},
   "outputs": [
    {
     "name": "stdout",
     "output_type": "stream",
     "text": [
      "2643201338304\n",
      "2643201338304\n",
      "[1, 4, 3]\n",
      "2643201338304\n",
      "2643201338304\n",
      "True\n"
     ]
    }
   ],
   "source": [
    "a = [1,2,3]\n",
    "b = a # a가 가지고 있는 데이터의 주소를 b에 할당\n",
    "print(id(a))\n",
    "print(id(b))\n",
    "\n",
    "a[1] = 4\n",
    "print(b) # a의 주소를 쓰고 있는 b의 값도 바뀜\n",
    "print(id(a))\n",
    "print(id(b))\n",
    "print(a is b) # a와 b의 주소가 같은지에 대한 논리\n"
   ]
  },
  {
   "cell_type": "code",
   "execution_count": 8,
   "metadata": {},
   "outputs": [
    {
     "name": "stdout",
     "output_type": "stream",
     "text": [
      "1584748383552\n",
      "1584748386240\n",
      "[1, 4, 3]\n",
      "[1, 2, 3]\n",
      "False\n",
      "[1, 2, 3]\n",
      "False\n"
     ]
    }
   ],
   "source": [
    "a=[1,2,3] \n",
    "b=a[::] # a에 할당된 '값'을 지정\n",
    "print(id(a))\n",
    "print(id(b)) # 같은 값을 다른 주소에 저장\n",
    "\n",
    "a[1] = 4\n",
    "print(a)\n",
    "print(b)\n",
    "print(a is b)\n",
    "\n",
    "from copy import copy # 값을 복사하는 라이브러리 함수 이용\n",
    "a=[1,2,3] \n",
    "b= copy(a)\n",
    "a[1] = 4\n",
    "print(b)\n",
    "print(a is b)"
   ]
  },
  {
   "attachments": {},
   "cell_type": "markdown",
   "metadata": {},
   "source": [
    "### 변수 할당하기"
   ]
  },
  {
   "cell_type": "code",
   "execution_count": 1,
   "metadata": {},
   "outputs": [
    {
     "name": "stdout",
     "output_type": "stream",
     "text": [
      "python\n",
      "life\n",
      "python\n",
      "life\n",
      "python\n",
      "life\n",
      "python\n",
      "life\n",
      "python\n",
      "life\n",
      "python\n",
      "life\n",
      "python\n",
      "life\n",
      "data\n",
      "data\n",
      "2240432149488\n",
      "2240432149488\n"
     ]
    }
   ],
   "source": [
    "a, b = ('python', 'life')\n",
    "print(a)\n",
    "print(b)\n",
    "\n",
    "(a, b) = ('python', 'life')\n",
    "print(a)\n",
    "print(b)\n",
    "\n",
    "(a, b) = 'python', 'life'\n",
    "print(a)\n",
    "print(b)\n",
    "\n",
    "a, b = ['python', 'life']\n",
    "print(a)\n",
    "print(b)\n",
    "\n",
    "[a, b] = ['python', 'life']\n",
    "print(a)\n",
    "print(b)\n",
    "\n",
    "[a, b] = 'python', 'life'\n",
    "print(a)\n",
    "print(b)\n",
    "\n",
    "a, b  = 'python', 'life'\n",
    "print(a)\n",
    "print(b)\n",
    "\n",
    "a = b = 'data'\n",
    "print(a)\n",
    "print(b)\n",
    "print(id(a))\n",
    "print(id(b))\n"
   ]
  },
  {
   "cell_type": "code",
   "execution_count": null,
   "metadata": {},
   "outputs": [
    {
     "name": "stdout",
     "output_type": "stream",
     "text": [
      "5\n",
      "3\n",
      "2643117343024\n",
      "2643117343088\n",
      "2643117343024\n",
      "2643117343088\n",
      "5\n",
      "3\n"
     ]
    }
   ],
   "source": [
    "a = 3\n",
    "b = 5\n",
    "tmp = b\n",
    "b = a\n",
    "a = tmp\n",
    "print(a)\n",
    "print(b) # 일반적 값 교체법\n",
    "\n",
    "a = 3 \n",
    "b = 5\n",
    "print(id(a))\n",
    "print(id(b))\n",
    "a,b = b,a\n",
    "print(id(b))\n",
    "print(id(a))\n",
    "\n",
    "print(a)\n",
    "print(b) # 파이썬 문법 활용(주소 교체)\n"
   ]
  }
 ],
 "metadata": {
  "kernelspec": {
   "display_name": "Python 3",
   "language": "python",
   "name": "python3"
  },
  "language_info": {
   "codemirror_mode": {
    "name": "ipython",
    "version": 3
   },
   "file_extension": ".py",
   "mimetype": "text/x-python",
   "name": "python",
   "nbconvert_exporter": "python",
   "pygments_lexer": "ipython3",
   "version": "3.10.10"
  },
  "orig_nbformat": 4,
  "vscode": {
   "interpreter": {
    "hash": "58dbfdb34cf82127b32c5737e6183911655ff227e5c11e8f5e4b25048ae98ef2"
   }
  }
 },
 "nbformat": 4,
 "nbformat_minor": 2
}
