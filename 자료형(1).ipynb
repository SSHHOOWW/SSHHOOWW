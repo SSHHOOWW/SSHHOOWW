{
 "cells": [
  {
   "attachments": {},
   "cell_type": "markdown",
   "metadata": {},
   "source": [
    "# 숫자형"
   ]
  },
  {
   "cell_type": "code",
   "execution_count": 4,
   "metadata": {},
   "outputs": [
    {
     "name": "stdout",
     "output_type": "stream",
     "text": [
      "7\n",
      "<class 'int'>\n",
      "<class 'float'>\n",
      "3.0434782608695654\n",
      "1\n",
      "7\n",
      "87.84670816352883\n"
     ]
    }
   ],
   "source": [
    "\n",
    "a=7\n",
    "print(a)\n",
    "print(type(a)) #a의 자료형, int: 정수형\n",
    "b=2.3\n",
    "print(type(b)) #b의 자료형, float: 실수형\n",
    "c=4.24e10 #4.24 x 10의 10제곱\n",
    "print(a/b) #나눗셈\n",
    "print(a//5) #몫\n",
    "print(a%8) #나머지\n",
    "print(a**b) #제곱"
   ]
  },
  {
   "attachments": {},
   "cell_type": "markdown",
   "metadata": {},
   "source": [
    "# 문자열 자료형"
   ]
  },
  {
   "cell_type": "code",
   "execution_count": 10,
   "metadata": {},
   "outputs": [
    {
     "name": "stdout",
     "output_type": "stream",
     "text": [
      "hello world\n",
      "<class 'str'>\n",
      "hello world\n",
      "python's favorite food is perl\n",
      "python's favorite food is perl\n",
      "Life is too short\n",
      " You need python\n",
      "Life is too short\t You need python\n",
      "\\\n",
      "dsdfdfsfggkjdjlksjda\n",
      "dfsjfla      \"fsdfjkl\" \n"
     ]
    }
   ],
   "source": [
    "a= \"hello world\"\n",
    "print(a)\n",
    "print(type(a)) #str: 문자열 자료형\n",
    "b= 'hello world' #작은 따옴표도 무관\n",
    "print(b)\n",
    "food1 = 'python\\'s favorite food is perl' #역슬래시로 문자 따옴표 사용가능\n",
    "food2 = \"python's favorite food is perl\" #구분된 따옴표로 문자 따옴표 사용가능\n",
    "print(food1)\n",
    "print(food2)\n",
    "c= 'Life is too short\\n You need python' #\\n은 줄바꿈 표시\n",
    "print(c)\n",
    "cc = 'Life is too short\\t You need python' #\\t은 탭간격 표시\n",
    "print(cc)\n",
    "d= '\\\\' #문자 \\을 사용\n",
    "print(d)\n",
    "p=\"\"\"dsdfdfsfggkjdjlksjda\n",
    "dfsjfla      \"fsdfjkl\" \"\"\" # 세개의 따옴표: 장문표현, 탭 줄바꿈 따옴표 모두 인식\n",
    "print(p)\n"
   ]
  },
  {
   "attachments": {},
   "cell_type": "markdown",
   "metadata": {},
   "source": [
    "### 문자열 연산"
   ]
  },
  {
   "cell_type": "code",
   "execution_count": 3,
   "metadata": {},
   "outputs": [
    {
     "name": "stdout",
     "output_type": "stream",
     "text": [
      "Python is fun!\n",
      "PythonPythonPythonPythonPythonPythonPythonPythonPythonPython\n"
     ]
    }
   ],
   "source": [
    "a=\"Python\"\n",
    "b=\" is fun!\"\n",
    "print(a+b) #두 문자열을 이음\n",
    "print(a*10) #같은 문자열을 반복해서 이음"
   ]
  },
  {
   "attachments": {},
   "cell_type": "markdown",
   "metadata": {},
   "source": [
    "### 인덱싱(indexing)"
   ]
  },
  {
   "cell_type": "code",
   "execution_count": 11,
   "metadata": {},
   "outputs": [
    {
     "name": "stdout",
     "output_type": "stream",
     "text": [
      "3\n"
     ]
    }
   ],
   "source": [
    "a = '12314'\n",
    "print(a[2]) # 파이썬의 인덱스는 처음이 0, 오른쪽 방향으로 0 1 2 3 ..."
   ]
  },
  {
   "attachments": {},
   "cell_type": "markdown",
   "metadata": {},
   "source": [
    "### 슬라이싱(slicing)"
   ]
  },
  {
   "cell_type": "code",
   "execution_count": 4,
   "metadata": {},
   "outputs": [
    {
     "name": "stdout",
     "output_type": "stream",
     "text": [
      "Life\n",
      "Life is \n",
      "Life is too short\n",
      "7654\n"
     ]
    }
   ],
   "source": [
    "print(a[0:4]) # \"A:B:C\" : C간격으로 A부터 B'이전'까지 인덱스의 문자\n",
    "print(a[:8]) # A의 디폴트값은 0(C가 양수) 혹은 마지막 인덱스값(c가 음수)\n",
    "print(a[::]) # B의 디폴트값은 '마지막 인덱스값+1'\n",
    "b='1234567'\n",
    "print(b[6:2:-1]) # C가 음수면 문자열의 왼쪽방향으로 (디폴트는 1)"
   ]
  },
  {
   "attachments": {},
   "cell_type": "markdown",
   "metadata": {},
   "source": [
    "### 문자열 포매팅"
   ]
  },
  {
   "cell_type": "code",
   "execution_count": 8,
   "metadata": {},
   "outputs": [
    {
     "name": "stdout",
     "output_type": "stream",
     "text": [
      "I eat 3 apples\n",
      "I eat 3 apples\n",
      " I ate 10 apples. So I was stick for three days.\n",
      "asdasdas 안녕dsdad\n",
      "  24asdasdas 윤시호dasdad\n",
      "나의 전공은 mathematics입니다.\n"
     ]
    }
   ],
   "source": [
    "a= \"I eat %d apples\"%3\n",
    "print(a)\n",
    "print(\"I eat 3 apples\")\n",
    "number=10\n",
    "day= \"three\"\n",
    "b= \" I ate %d apples. So I was stick for %s days.\" %(number, day)\n",
    "# %s는 문자열, %d는 정수, %f는 실수, 순서에 따라 들어감\n",
    "print(b)\n",
    "c= \"asdasdas {}dsdad\\n\".format(\"안녕\")\n",
    "d= \"{age:>4}asdasdas {name}dasdad\".format(name=\"윤시호\",age=24) #이름지정 시 순서 무관 / > 우측정렬, 4 길이 4로 포맷팅\n",
    "print(c+d)\n",
    "\n",
    "dept = \"mathematics\"\n",
    "e= f\"나의 전공은 {dept}입니다.\"\n",
    "print(e) #파이썬 최신버전의 포매팅 방법"
   ]
  },
  {
   "attachments": {},
   "cell_type": "markdown",
   "metadata": {},
   "source": [
    "### 자료표현"
   ]
  },
  {
   "cell_type": "code",
   "execution_count": 7,
   "metadata": {},
   "outputs": [
    {
     "name": "stdout",
     "output_type": "stream",
     "text": [
      "   민수\n",
      "민수   \n",
      "민지민수   지민\n",
      " 333333.1235\n"
     ]
    }
   ],
   "source": [
    "print(\"%5s\"%\"민수\") \n",
    "#\"민수\"를 길이가 5인 문자열에 포매팅. 나머지는 민수 왼쪽 공백으로 채움\n",
    "print(\"%-5s\"%\"민수\")\n",
    "#\"민수\"를 길이가 5인 문자열에 포매팅. 나머지는 민수 오른쪽 공백으로 채움\n",
    "print(\"민지%-5s지민\"%\"민수\")\n",
    "# 민지와 사이 %-5s로 포매팅된 민수를 삽입.\n",
    "\n",
    "a= \"%12.4f\" %333333.123456788943 \n",
    "# 길이가 12인 문자열에 소수점 4번째 자리까지 표기(반올림)\n",
    "print(a)"
   ]
  },
  {
   "attachments": {},
   "cell_type": "markdown",
   "metadata": {},
   "source": [
    "### 문자열 대표함수"
   ]
  },
  {
   "cell_type": "code",
   "execution_count": 5,
   "metadata": {},
   "outputs": [
    {
     "name": "stdout",
     "output_type": "stream",
     "text": [
      "2\n",
      "2\n",
      "-1\n",
      "2\n",
      "a,b,c,d\n",
      "a-b-c\n",
      "<class 'str'>\n",
      "hi\n",
      "Your leg is too short\n",
      "['Life', 'is', 'too', 'short']\n",
      "['L', 'i', 'f', 'e', ' ', 'i', 's', ' ', 't', 'o', 'o', ' ', 's', 'h', 'o', 'r', 't']\n"
     ]
    }
   ],
   "source": [
    "a = \"hobby\"\n",
    "print(a.count('b')) # a에 있는 b의 개수\n",
    "\n",
    "print(a.find('b')) # a에서 가장 먼저 나오는 b의 인덱스 번호\n",
    "print(a.find('x')) # 없으면 -1 리턴\n",
    "\n",
    "print(a.index('b')) # find와 유사하나 없으면 에러\n",
    "\n",
    "a= \",\".join(\"abcd\") # 문자열의 한 단위 사이마다 문자 삽입\n",
    "print(a)\n",
    "b=\"-\".join([\"a\",\"b\",\"c\"]) # 리스트에도 적용 \n",
    "print(b)\n",
    "print(type(b))\n",
    "a= \"             hi            \"\n",
    "print(a.strip()) # 양쪽 공백제거\n",
    "\n",
    "a = \"Life is too short\"\n",
    "print(a.replace(\"Life\", \"Your leg\")) #해당 문자열의 지정 부분 치환\n",
    "print(a.split(\" \")) \n",
    "# 입력 문자를 기준으로 문자열을 리스트 혹은 이터러터블 객체로 변환. 디폴트는 공백\n",
    "print(list(a))"
   ]
  },
  {
   "attachments": {},
   "cell_type": "markdown",
   "metadata": {},
   "source": [
    "# 리스트 자료형 (여러 개의 변수 관리)"
   ]
  },
  {
   "cell_type": "code",
   "execution_count": 9,
   "metadata": {},
   "outputs": [
    {
     "name": "stdout",
     "output_type": "stream",
     "text": [
      "1\n",
      "['cake', 'coffee', 'ade', 'cookie']\n",
      "ade\n",
      "[1, 2, 3, 4]\n"
     ]
    }
   ],
   "source": [
    "a=[1,2,3,4,\"python\",[\"cake\",\"coffee\",\"ade\",\"cookie\"]] #여러 자료형 가능\n",
    "print(a[0]) # 리스트의 첫번째 값(인덱스 값은 0부터)\n",
    "print(a[5]) # 리스트의 6번째 값 : 또 다른 리스트 자료\n",
    "print(a[5][2]) # 리스트의 6번째에 있는 리스트의 2번째 값\n",
    "print(a[:4]) # 리스트의 처음부터 4번(다섯번째 값) 인덱스 이전까지의 리스트\n"
   ]
  },
  {
   "attachments": {},
   "cell_type": "markdown",
   "metadata": {},
   "source": [
    "### 기본 연산"
   ]
  },
  {
   "cell_type": "code",
   "execution_count": 10,
   "metadata": {},
   "outputs": [
    {
     "name": "stdout",
     "output_type": "stream",
     "text": [
      "[1, 2, 3, 4, 5, 6]\n",
      "[1, 2, 3, 1, 2, 3, 1, 2, 3]\n",
      "[4, 2, 3]\n",
      "[2, 4, 3]\n",
      "[3]\n",
      "[2, 3, 4, 5]\n"
     ]
    }
   ],
   "source": [
    "a= [1,2,3]\n",
    "b= [4,5,6]\n",
    "print(a+b) # 리스트 연결\n",
    "print(a*3) # 리스트 반복 연결\n",
    "a[0] = 4 # 교체\n",
    "print(a) \n",
    "a[0:2] = [2,4] # 교체\n",
    "print(a) \n",
    "a[0:2] = [] # 삭제\n",
    "print(a) \n",
    "b=[1,2,3,4,5]\n",
    "del(b[0]) #삭제\n",
    "print(b) \n"
   ]
  },
  {
   "attachments": {},
   "cell_type": "markdown",
   "metadata": {},
   "source": [
    "### 여러가지 함수"
   ]
  },
  {
   "cell_type": "code",
   "execution_count": 2,
   "metadata": {},
   "outputs": [
    {
     "name": "stdout",
     "output_type": "stream",
     "text": [
      "[1, 2, 3, 4]\n",
      "[4, 1, 2, 3, 4]\n",
      "[0, 1, 3, 4, 9]\n",
      "[9, 4, 3, 1, 0]\n",
      "0\n",
      "[4, 3, 1, 0]\n",
      "[1, 1, 1, 1, 1]\n",
      "8\n",
      "[4, 5, 4, 6, 4, 7]\n",
      "3\n",
      "[4, 5, 4, 6, 4, 7, 8, 9]\n"
     ]
    }
   ],
   "source": [
    "a= [1,2,3]\n",
    "a.append(4) #리스트 끝에 추가\n",
    "print(a)\n",
    "\n",
    "a.insert(0,4) # 0번째 인덱스에 4삽입(기존 인덱스들은 밀림)\n",
    "print(a)\n",
    "\n",
    "b= [3,4,1,9,0]\n",
    "b.sort() #오름차순\n",
    "print(b) \n",
    "\n",
    "b.reverse() #리스트 뒤집기\n",
    "print (b)\n",
    "\n",
    "print(b.index(9)) # 찾기\n",
    "\n",
    "b.remove(9) #원하는 값 삭제\n",
    "print(b)\n",
    "c=[1,1,1,1,1,1]\n",
    "c.remove(1)\n",
    "print(c) #반복된 수 모두 삭제는 못함. 가장 앞에 있는 것 하나만 삭제\n",
    "\n",
    "a=[4,5,4,6,4,7,8]\n",
    "print(a.pop()) #리스트의 마지막 값을 리턴하고, 삭제\n",
    "print(a) \n",
    "\n",
    "print(a.count(4)) #리스트에 있는 지정 자료의 개수\n",
    "\n",
    "a.extend([8,9]) #a의 끝에 해당 리스트를 추가 덧셈과 동일\n",
    "print(a)"
   ]
  }
 ],
 "metadata": {
  "kernelspec": {
   "display_name": "Python 3",
   "language": "python",
   "name": "python3"
  },
  "language_info": {
   "codemirror_mode": {
    "name": "ipython",
    "version": 3
   },
   "file_extension": ".py",
   "mimetype": "text/x-python",
   "name": "python",
   "nbconvert_exporter": "python",
   "pygments_lexer": "ipython3",
   "version": "3.10.10"
  },
  "orig_nbformat": 4,
  "vscode": {
   "interpreter": {
    "hash": "58dbfdb34cf82127b32c5737e6183911655ff227e5c11e8f5e4b25048ae98ef2"
   }
  }
 },
 "nbformat": 4,
 "nbformat_minor": 2
}
