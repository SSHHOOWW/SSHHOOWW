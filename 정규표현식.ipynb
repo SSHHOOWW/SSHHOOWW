{
 "cells": [
  {
   "cell_type": "markdown",
   "metadata": {},
   "source": [
    "# 패턴 표현"
   ]
  },
  {
   "cell_type": "markdown",
   "metadata": {},
   "source": [
    "### 문자클래스[ ]\n",
    "[]사이의 문자들 중 하나인가?\n",
    "\n",
    "[abcd] == [a-d]\n",
    "\n",
    "[0-5] == [012345]"
   ]
  },
  {
   "cell_type": "markdown",
   "metadata": {},
   "source": [
    "### Dot(.)\n",
    "줄바꿈을 제외한 모든 문자를 표현"
   ]
  },
  {
   "cell_type": "markdown",
   "metadata": {},
   "source": [
    "### 반복(*)\n",
    "ca*t는 a가 0회 이상 반복된 패턴을 뜻함"
   ]
  },
  {
   "cell_type": "markdown",
   "metadata": {},
   "source": [
    "### 반복(+)\n",
    "ca+t a가 1회 이상 반복된 패턴을 뜻함"
   ]
  },
  {
   "cell_type": "markdown",
   "metadata": {},
   "source": [
    "### 반복({m,n})\n",
    "ca{2,5}t a가 2회에서 5회사이 반복된 패턴을 뜻함"
   ]
  },
  {
   "cell_type": "markdown",
   "metadata": {},
   "source": [
    "### 반복(?)\n",
    "ca?t a가 0회 혹은 1회 사용된 패턴을 뜻함.\n",
    "=={0,1}"
   ]
  },
  {
   "cell_type": "markdown",
   "metadata": {},
   "source": [
    "# 패턴 객체와 매치객체 이용하기"
   ]
  },
  {
   "cell_type": "markdown",
   "metadata": {},
   "source": [
    "### re모듈\n",
    "re.compile('패턴') >> 패턴객체를 리턴``"
   ]
  },
  {
   "cell_type": "markdown",
   "metadata": {},
   "source": [
    "### match\n",
    "패턴 객체를 매치 객체로 반환(문자열의 처음부터 패턴 확인)"
   ]
  },
  {
   "cell_type": "code",
   "execution_count": 5,
   "metadata": {},
   "outputs": [
    {
     "name": "stdout",
     "output_type": "stream",
     "text": [
      "<re.Match object; span=(0, 6), match='python'>\n",
      "None\n"
     ]
    }
   ],
   "source": [
    "import re\n",
    "p = re.compile('[a-z]+')\n",
    "m = p.match('python')   # match 객체로 반환\n",
    "print(m)\n",
    "M = p.match('3 python')\n",
    "print(M)"
   ]
  },
  {
   "cell_type": "markdown",
   "metadata": {},
   "source": [
    "### search\n",
    "패턴 객체를 매치 객체로 반환(최초로 패턴이 일치하는 문자열 인덱스부터 확인)"
   ]
  },
  {
   "cell_type": "code",
   "execution_count": 6,
   "metadata": {},
   "outputs": [
    {
     "name": "stdout",
     "output_type": "stream",
     "text": [
      "<re.Match object; span=(0, 6), match='python'>\n",
      "<re.Match object; span=(2, 8), match='python'>\n"
     ]
    }
   ],
   "source": [
    "p = re.compile('[a-z]+')\n",
    "m = p.search('python')   \n",
    "print(m)\n",
    "M = p.search('3 python')\n",
    "print(M)"
   ]
  },
  {
   "cell_type": "markdown",
   "metadata": {},
   "source": [
    "### findall\n",
    "패턴이 일치하는 문자열들을 리스트로 반환"
   ]
  },
  {
   "cell_type": "code",
   "execution_count": 7,
   "metadata": {},
   "outputs": [
    {
     "name": "stdout",
     "output_type": "stream",
     "text": [
      "['life', 'is', 'too', 'short']\n"
     ]
    }
   ],
   "source": [
    "p = re.compile('[a-z]+')\n",
    "m = p.findall('life is too short')   \n",
    "print(m)"
   ]
  },
  {
   "cell_type": "markdown",
   "metadata": {},
   "source": [
    "### finditer\n",
    "패턴이 일치하는 문자열들을 iter 객체로 반환\n",
    "\n",
    "**iter 객체: 반복이 가능한 객체들의 일반화) 문자열, 리스트, 튜플 등 "
   ]
  },
  {
   "cell_type": "code",
   "execution_count": 9,
   "metadata": {},
   "outputs": [
    {
     "name": "stdout",
     "output_type": "stream",
     "text": [
      "<callable_iterator object at 0x000001C601F0AE00>\n",
      "<re.Match object; span=(0, 4), match='life'>\n",
      "<re.Match object; span=(5, 7), match='is'>\n",
      "<re.Match object; span=(8, 11), match='too'>\n",
      "<re.Match object; span=(12, 17), match='short'>\n"
     ]
    }
   ],
   "source": [
    "p = re.compile('[a-z]+')\n",
    "m = p.finditer('life is too short')   \n",
    "print(m)\n",
    "for i in m:\n",
    "    print(i)"
   ]
  },
  {
   "cell_type": "markdown",
   "metadata": {},
   "source": [
    "### match 객체의 메서드"
   ]
  },
  {
   "cell_type": "code",
   "execution_count": 12,
   "metadata": {},
   "outputs": [
    {
     "name": "stdout",
     "output_type": "stream",
     "text": [
      "python\n",
      "4\n",
      "10\n",
      "(4, 10)\n"
     ]
    }
   ],
   "source": [
    "p = re.compile('[a-z]+')\n",
    "m = p.search('3   python')\n",
    "print(m.group())        #매치된 문자열\n",
    "print(m.start())        #매치된 문자열의 처음 인덱스\n",
    "print(m.end())          #매치된 문자열의 마지막 인덱스\n",
    "print(m.span())         #매치된 문자열의 처음과 마지막 인덱스를 튜플로"
   ]
  },
  {
   "cell_type": "markdown",
   "metadata": {},
   "source": [
    "### 컴파일 옵션\n",
    "- DOTALL(S) : DOT표현이 줄바꿈까지 포함하도록\n",
    "- IGNORECASE(I) : 소문자와 대문자 구분없이\n",
    "- MULTILINE(M) : ^, $과 같은 메타 문자를 문자열의 각 줄마다 적용\n",
    "- VERBOSE(X) : 컴파일 시 공백이나 줄바꿈, 탭(화이트 스페이스) 모두 무시"
   ]
  },
  {
   "cell_type": "code",
   "execution_count": 18,
   "metadata": {},
   "outputs": [
    {
     "name": "stdout",
     "output_type": "stream",
     "text": [
      "None\n",
      "<re.Match object; span=(0, 3), match='a\\nb'>\n",
      "['python one']\n"
     ]
    }
   ],
   "source": [
    "# DOTALL(S)\n",
    "p = re.compile('a.b')\n",
    "m = p.match('a\\nb')\n",
    "print(m)\n",
    "\n",
    "pp = re.compile('a.b', re.DOTALL)\n",
    "M = pp.match('a\\nb')\n",
    "print(M)\n"
   ]
  },
  {
   "cell_type": "code",
   "execution_count": null,
   "metadata": {},
   "outputs": [],
   "source": [
    "# IGNORECASE(I)\n",
    "p = re.compile('cA{1,6}t', re.IGNORECASE)\n",
    "m = p.match('cAaAat')"
   ]
  },
  {
   "cell_type": "code",
   "execution_count": 22,
   "metadata": {},
   "outputs": [
    {
     "name": "stdout",
     "output_type": "stream",
     "text": [
      "['python one']\n",
      "['python one', 'python two', 'python three']\n"
     ]
    }
   ],
   "source": [
    "# MULTILINE(M)\n",
    "p = re.compile(\"^python\\s\\w+\")      # ^: 문자열의 맨처음, \\s: 공백, \\w: 숫자 혹은 알파벳\n",
    "\n",
    "data = \"\"\"python one\n",
    "life is too short\n",
    "python two\n",
    "you need python\n",
    "python three\"\"\"\n",
    "\n",
    "print(p.findall(data))\n",
    "\n",
    "pp = re.compile(\"^python\\s\\w+\", re.MULTILINE)\n",
    "\n",
    "print(pp.findall(data))"
   ]
  },
  {
   "cell_type": "code",
   "execution_count": 27,
   "metadata": {},
   "outputs": [],
   "source": [
    "# VERBOSE(X)\n",
    "charref = re.compile(r'&[#](0[0-7]+|[0-9]+|x[0-9a-fA-F]+);')\n",
    "\n",
    "charref = re.compile(r\"\"\"\n",
    " &[#]                # Start of a numeric entity reference\n",
    " (\n",
    "     0[0-7]+         # Octal form\n",
    "   | [0-9]+          # Decimal form\n",
    "   | x[0-9a-fA-F]+   # Hexadecimal form\n",
    " )\n",
    " ;                   # Trailing semicolon\n",
    "\"\"\", re.VERBOSE)\n"
   ]
  },
  {
   "cell_type": "markdown",
   "metadata": {},
   "source": [
    "### 역슬래시문제\n",
    "'\\section'을 포함하는 패턴을 찾고자 할 때\n",
    "\n",
    "re.compile('\\\\section') 혹은            # //는 문자열로 /로 치환\n",
    "\n",
    "re.compile(r'\\section')                 # raw string 표현. 백슬래시를 문자 그대로 표현"
   ]
  },
  {
   "cell_type": "markdown",
   "metadata": {},
   "source": [
    "# 메타문자"
   ]
  },
  {
   "cell_type": "code",
   "execution_count": 5,
   "metadata": {},
   "outputs": [
    {
     "name": "stdout",
     "output_type": "stream",
     "text": [
      "<re.Match object; span=(0, 4), match='Crow'>\n"
     ]
    }
   ],
   "source": [
    "import re\n",
    "\n",
    "# | : or\n",
    "p = re.compile('Crow|Servo')    \n",
    "m = p.match('CrowHello')\n",
    "print(m)"
   ]
  },
  {
   "cell_type": "code",
   "execution_count": 6,
   "metadata": {},
   "outputs": [
    {
     "name": "stdout",
     "output_type": "stream",
     "text": [
      "<re.Match object; span=(0, 4), match='Life'>\n",
      "None\n"
     ]
    }
   ],
   "source": [
    "# ^: 맨처음을 나타냄\n",
    "print(re.search(\"^Life\", \"Life is too short\"))  \n",
    "print(re.search(\"^Life\", \"My Life\"))    # 컴파일 없이 (표현식, 검사식)로 한번에"
   ]
  },
  {
   "cell_type": "code",
   "execution_count": 7,
   "metadata": {},
   "outputs": [
    {
     "name": "stdout",
     "output_type": "stream",
     "text": [
      "<re.Match object; span=(12, 17), match='short'>\n",
      "None\n"
     ]
    }
   ],
   "source": [
    "# $ : 맨 끝을 나타냄\n",
    "print(re.search(\"short$\",\"Life is too short\"))\n",
    "print(re.search(\"short$\",\"Life is too short, you need python\"))"
   ]
  },
  {
   "cell_type": "code",
   "execution_count": 8,
   "metadata": {},
   "outputs": [
    {
     "name": "stdout",
     "output_type": "stream",
     "text": [
      "<re.Match object; span=(3, 8), match='class'>\n",
      "None\n",
      "None\n"
     ]
    }
   ],
   "source": [
    "# \\b : 공백을 나타냄\n",
    "p = re.compile(r'\\bclass\\b')        \n",
    "print(p.search('no class at all'))\n",
    "print(p.search('the decalassified algorithm'))\n",
    "print(p.search('one subclass is'))"
   ]
  },
  {
   "cell_type": "markdown",
   "metadata": {},
   "source": [
    "# 그루핑"
   ]
  },
  {
   "cell_type": "code",
   "execution_count": 9,
   "metadata": {},
   "outputs": [
    {
     "name": "stdout",
     "output_type": "stream",
     "text": [
      "<re.Match object; span=(0, 3), match='ABC'>\n"
     ]
    }
   ],
   "source": [
    "p = re.compile('ABC+')\n",
    "m = p.search('ABCABCABC OK?')\n",
    "print(m)\n",
    "print(m.group(1))   # 매치된 첫번째 그룹 불러오기"
   ]
  },
  {
   "cell_type": "code",
   "execution_count": 12,
   "metadata": {},
   "outputs": [
    {
     "name": "stdout",
     "output_type": "stream",
     "text": [
      "the the\n",
      "park\n"
     ]
    }
   ],
   "source": [
    "p = re.compile(r'(\\b\\w+)\\s+\\1')     # 정의한 그룹을 정규 표현식 내에서 다시 표현(1번)\n",
    "print(p.search('Paris in the the spring').group())\n",
    "\n",
    "p = re.compile(r'(?P<name>\\w+)\\s+((\\d+)[-]\\d+[-]\\d+)')      # ?P<...>: 그룹 이름 정해주기\n",
    "m = p.search(\"park 010-8855-1882\")\n",
    "print(m.group(\"name\"))"
   ]
  },
  {
   "cell_type": "code",
   "execution_count": 14,
   "metadata": {},
   "outputs": [
    {
     "data": {
      "text/plain": [
       "'the the'"
      ]
     },
     "execution_count": 14,
     "metadata": {},
     "output_type": "execute_result"
    }
   ],
   "source": [
    "p = re.compile(r'(?P<word>\\b\\w+)\\s+(?P=word)')      # 지정한 그룹을 그룹이름으로 불러오기\n",
    "p.search('Paris in the the spring').group()"
   ]
  },
  {
   "cell_type": "markdown",
   "metadata": {},
   "source": [
    "# 전방탐색"
   ]
  },
  {
   "cell_type": "code",
   "execution_count": 25,
   "metadata": {},
   "outputs": [
    {
     "name": "stdout",
     "output_type": "stream",
     "text": [
      "http\n"
     ]
    }
   ],
   "source": [
    "# 긍정형 (?=) : 지정된 문자 전방까지 탐색\n",
    "p = re.compile(\".+(?=:)\")\n",
    "m = p.search(\"http://google.com\")\n",
    "print(m.group())        \n",
    "# 검색조건에는 포함되나 결과에는 표현되지 않는 문자 이용"
   ]
  },
  {
   "cell_type": "code",
   "execution_count": 21,
   "metadata": {},
   "outputs": [
    {
     "name": "stdout",
     "output_type": "stream",
     "text": [
      "['autoexec.exe', 'autoexec.jpg']\n"
     ]
    }
   ],
   "source": [
    "# 부정형(?!) : 지정된 문자를 포함하지 않도록 탐색 \n",
    "p = re.compile(\".*[.](?!bat$|exe$).*$\",re.M)     # 끝에 bat가 오는 녀석이 오지 않는 것 탐색\n",
    "l = p.findall(\"\"\"\n",
    "autoexec.exe\n",
    "autoexec.bat\n",
    "autoexec.jpg\n",
    "\"\"\")\n",
    "print(l)"
   ]
  },
  {
   "cell_type": "markdown",
   "metadata": {},
   "source": [
    "# 문자열 바꾸기 sub"
   ]
  },
  {
   "cell_type": "code",
   "execution_count": 26,
   "metadata": {},
   "outputs": [
    {
     "data": {
      "text/plain": [
       "'color socks and color shoes'"
      ]
     },
     "execution_count": 26,
     "metadata": {},
     "output_type": "execute_result"
    }
   ],
   "source": [
    "p = re.compile('blue|white|red')\n",
    "p.sub(\"color\", \"blue socks and red shoes\") # 해당 패턴의 문자열을 지정 문자열로 치환"
   ]
  },
  {
   "cell_type": "markdown",
   "metadata": {},
   "source": [
    "# greedy vs non-greedy"
   ]
  },
  {
   "cell_type": "code",
   "execution_count": null,
   "metadata": {},
   "outputs": [],
   "source": [
    "s = \"<html><head><titile>Title</title>\"\n",
    "print(re.match('<.*>',s).gruop())       # 최대의 반복 (greedy)\n",
    "print(re.match('<.*?>',s).gruop())      # 최소의 반복 (non-greedy)"
   ]
  }
 ],
 "metadata": {
  "kernelspec": {
   "display_name": "Python 3",
   "language": "python",
   "name": "python3"
  },
  "language_info": {
   "codemirror_mode": {
    "name": "ipython",
    "version": 3
   },
   "file_extension": ".py",
   "mimetype": "text/x-python",
   "name": "python",
   "nbconvert_exporter": "python",
   "pygments_lexer": "ipython3",
   "version": "3.10.11"
  },
  "orig_nbformat": 4
 },
 "nbformat": 4,
 "nbformat_minor": 2
}
